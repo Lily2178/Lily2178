{
  "nbformat": 4,
  "nbformat_minor": 0,
  "metadata": {
    "colab": {
      "name": "Copy of Machine_Learning_Example.ipynb",
      "provenance": [],
      "include_colab_link": true
    },
    "kernelspec": {
      "name": "python3",
      "display_name": "Python 3"
    },
    "language_info": {
      "name": "python"
    }
  },
  "cells": [
    {
      "cell_type": "markdown",
      "metadata": {
        "id": "view-in-github",
        "colab_type": "text"
      },
      "source": [
        "<a href=\"https://colab.research.google.com/github/Lily2178/Lily2178/blob/main/Copy_of_Machine_Learning_Example.ipynb\" target=\"_parent\"><img src=\"https://colab.research.google.com/assets/colab-badge.svg\" alt=\"Open In Colab\"/></a>"
      ]
    },
    {
      "cell_type": "markdown",
      "metadata": {
        "id": "fdS7qSqJaifz"
      },
      "source": [
        "# **Getting Started with Machine Learning in Python**\n",
        "To get started we will import functions from different libraries in Python. \n",
        "\n",
        "Pandas and sklearn are Python libraries that will help us and do most of the heavy lifting for the Machine Learning Algorthms.\n",
        "\n",
        "Play the code after each explanation block."
      ]
    },
    {
      "cell_type": "code",
      "metadata": {
        "id": "EtIKAQ3mafE4",
        "colab": {
          "base_uri": "https://localhost:8080/"
        },
        "outputId": "e7eddbfb-bb84-4908-bb92-778bcacf7647"
      },
      "source": [
        "# Load libraries\n",
        "from pandas import read_csv\n",
        "from pandas.plotting import scatter_matrix\n",
        "from matplotlib import pyplot\n",
        "from sklearn.model_selection import train_test_split\n",
        "from sklearn.model_selection import cross_val_score\n",
        "from sklearn.model_selection import StratifiedKFold\n",
        "from sklearn.metrics import classification_report\n",
        "from sklearn.metrics import confusion_matrix\n",
        "from sklearn.metrics import accuracy_score\n",
        "from sklearn.linear_model import LogisticRegression\n",
        "from sklearn.tree import DecisionTreeClassifier\n",
        "from sklearn.neighbors import KNeighborsClassifier\n",
        "from sklearn.discriminant_analysis import LinearDiscriminantAnalysis\n",
        "from sklearn.naive_bayes import GaussianNB\n",
        "from sklearn.svm import SVC\n",
        "print('complete!')"
      ],
      "execution_count": 18,
      "outputs": [
        {
          "output_type": "stream",
          "name": "stdout",
          "text": [
            "complete!\n"
          ]
        }
      ]
    },
    {
      "cell_type": "markdown",
      "metadata": {
        "id": "439b7I9Fav0H"
      },
      "source": [
        "Now we will import the dataset. This dataset is about irises and is rather famous for learning machine learning.\n",
        "\n",
        "You can print the dataset to ensure it loaded properly."
      ]
    },
    {
      "cell_type": "code",
      "metadata": {
        "id": "u8A5u_NSawiA",
        "outputId": "1fbffb44-4838-4554-d25b-f264c814bce4",
        "colab": {
          "base_uri": "https://localhost:8080/"
        }
      },
      "source": [
        "# Load dataset\n",
        "url = \"https://raw.githubusercontent.com/jbrownlee/Datasets/master/iris.csv\"\n",
        "names = ['sepal-length', 'sepal-width', 'petal-length', 'petal-width', 'class']\n",
        "dataset = read_csv(url, names=names)\n",
        "print(dataset)"
      ],
      "execution_count": 19,
      "outputs": [
        {
          "output_type": "stream",
          "name": "stdout",
          "text": [
            "     sepal-length  sepal-width  petal-length  petal-width           class\n",
            "0             5.1          3.5           1.4          0.2     Iris-setosa\n",
            "1             4.9          3.0           1.4          0.2     Iris-setosa\n",
            "2             4.7          3.2           1.3          0.2     Iris-setosa\n",
            "3             4.6          3.1           1.5          0.2     Iris-setosa\n",
            "4             5.0          3.6           1.4          0.2     Iris-setosa\n",
            "..            ...          ...           ...          ...             ...\n",
            "145           6.7          3.0           5.2          2.3  Iris-virginica\n",
            "146           6.3          2.5           5.0          1.9  Iris-virginica\n",
            "147           6.5          3.0           5.2          2.0  Iris-virginica\n",
            "148           6.2          3.4           5.4          2.3  Iris-virginica\n",
            "149           5.9          3.0           5.1          1.8  Iris-virginica\n",
            "\n",
            "[150 rows x 5 columns]\n"
          ]
        }
      ]
    },
    {
      "cell_type": "markdown",
      "metadata": {
        "id": "o0P-RTJMbVeZ"
      },
      "source": [
        "We will visualize our data in a graph. This helps us get to know our data a bit."
      ]
    },
    {
      "cell_type": "code",
      "metadata": {
        "id": "Hm3KSe-ebV1a",
        "outputId": "12928963-e663-4984-f52b-72ccba965b74",
        "colab": {
          "base_uri": "https://localhost:8080/",
          "height": 267
        }
      },
      "source": [
        "# box and whisker plots\n",
        "dataset.plot(kind='box', subplots=True, layout=(2,2), sharex=False, sharey=False)\n",
        "pyplot.show()"
      ],
      "execution_count": 6,
      "outputs": [
        {
          "output_type": "display_data",
          "data": {
            "text/plain": [
              "<Figure size 432x288 with 4 Axes>"
            ],
            "image/png": "[encoded data removed]"
          },
          "metadata": {
            "needs_background": "light"
          }
        }
      ]
    },
    {
      "cell_type": "markdown",
      "metadata": {
        "id": "YbrBYTo9kK0r"
      },
      "source": [
        "Now, we will test several types machine learning models.\n",
        "\n",
        "The data will also be split into a training set and a test (validation) set."
      ]
    },
    {
      "cell_type": "code",
      "metadata": {
        "id": "RgbBfcztcE_j",
        "outputId": "57c7dc83-ef1e-48a4-a75c-f411c63b0eaa",
        "colab": {
          "base_uri": "https://localhost:8080/"
        }
      },
      "source": [
        "# Split-out validation dataset\n",
        "array = dataset.values\n",
        "X = array[:,0:4]\n",
        "y = array[:,4]\n",
        "X_train, X_validation, Y_train, Y_validation = train_test_split(X, y, test_size=0.20, random_state=1)\n",
        "\n",
        "# Spot Check Algorithms\n",
        "models = []\n",
        "models.append(('LR', LogisticRegression(solver='liblinear', multi_class='ovr')))\n",
        "models.append(('LDA', LinearDiscriminantAnalysis()))\n",
        "models.append(('KNN', KNeighborsClassifier()))\n",
        "models.append(('CART', DecisionTreeClassifier()))\n",
        "models.append(('NB', GaussianNB()))\n",
        "models.append(('SVM', SVC(gamma='auto')))\n",
        "\n",
        "print(\"Training Complete!\")"
      ],
      "execution_count": 10,
      "outputs": [
        {
          "output_type": "stream",
          "name": "stdout",
          "text": [
            "Training Complete!\n"
          ]
        }
      ]
    },
    {
      "cell_type": "markdown",
      "metadata": {
        "id": "AUCBXoy3lVgt"
      },
      "source": [
        "Now that the models have been created, let's test them.\n",
        "\n",
        "Here we will be having the model predict what kind of iris each flower in the test set is and comparing it to the label we already have.\n",
        "\n",
        "The accuracy of each will be printed."
      ]
    },
    {
      "cell_type": "code",
      "metadata": {
        "id": "Mcbn1BizlUQ5",
        "outputId": "16738cc6-ffc3-4d81-c13d-3c2bf80a536b",
        "colab": {
          "base_uri": "https://localhost:8080/"
        }
      },
      "source": [
        "# evaluate each model in turn\n",
        "results = []\n",
        "names = []\n",
        "for name, model in models:\n",
        "\tkfold = StratifiedKFold(n_splits=10, random_state=1, shuffle=True)\n",
        "\tcv_results = cross_val_score(model, X_train, Y_train, cv=kfold, scoring='accuracy')\n",
        "\tresults.append(cv_results)\n",
        "\tnames.append(name)\n",
        "\tprint('%s: %f' % (name, cv_results.mean()))"
      ],
      "execution_count": 12,
      "outputs": [
        {
          "output_type": "stream",
          "name": "stdout",
          "text": [
            "LR: 0.941667\n",
            "LDA: 0.975000\n",
            "KNN: 0.958333\n",
            "CART: 0.950000\n",
            "NB: 0.950000\n",
            "SVM: 0.983333\n"
          ]
        }
      ]
    },
    {
      "cell_type": "markdown",
      "metadata": {
        "id": "QWJZvMgil1wb"
      },
      "source": [
        "Now we can look and compare our models.\n",
        "\n",
        "When we pick one, we can then use this model to predict the kind of iris other flowers are.\n",
        "\n",
        "The models we have trained that you can try here are:\n",
        "\n",
        "\n",
        "*   LogisticRegression(solver='liblinear', multi_class='ovr')\n",
        "*   LinearDiscriminantAnalysis()\n",
        "*   KNeighborsClassifier()\n",
        "*   DecisionTreeClassifier()\n",
        "*   GaussianNB()\n",
        "*   SVC(gamma='auto')\n",
        "\n",
        "You can try different models and also adjusting the data for the new flower to see if the models predict something different."
      ]
    },
    {
      "cell_type": "code",
      "metadata": {
        "id": "HfKcw4jJcjAr",
        "outputId": "30cea2dd-cdc2-4414-f3c7-0f34f002023f",
        "colab": {
          "base_uri": "https://localhost:8080/"
        }
      },
      "source": [
        "#Predict what kind of iris a new flower is\n",
        "\n",
        "new_flower = [[5.7, 3.9, 1.2, 0.3]] #Data from a new flower\n",
        "\n",
        "model = SVC(gamma='auto')  #You can switch which model you are using to predict here\n",
        "model.fit(X_train, Y_train)\n",
        "\n",
        "predictions = model.predict(new_flower)\n",
        "print(predictions)\n"
      ],
      "execution_count": 11,
      "outputs": [
        {
          "output_type": "stream",
          "name": "stdout",
          "text": [
            "['Iris-setosa']\n"
          ]
        }
      ]
    },
    {
      "cell_type": "markdown",
      "metadata": {
        "id": "TpdZkl7Qojt1"
      },
      "source": [
        "Now we have programmed a Machine Learning Algorithm in Python. Awesome Job!"
      ]
    }
  ]
}